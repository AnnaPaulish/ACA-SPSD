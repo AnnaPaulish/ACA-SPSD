{
 "cells": [
  {
   "cell_type": "markdown",
   "metadata": {},
   "source": [
    "# Project – Low-rank approximation techniques"
   ]
  },
  {
   "cell_type": "markdown",
   "metadata": {},
   "source": [
    "### Topic\n",
    "Volume maximization for cross approximation"
   ]
  },
  {
   "cell_type": "markdown",
   "metadata": {},
   "source": [
    "### Authors \n",
    "Anna Paulish & Fabio Matti"
   ]
  },
  {
   "cell_type": "markdown",
   "metadata": {},
   "source": [
    "### Imports"
   ]
  },
  {
   "cell_type": "code",
   "execution_count": null,
   "metadata": {},
   "outputs": [],
   "source": [
    "%load_ext autoreload\n",
    "%autoreload 2"
   ]
  },
  {
   "cell_type": "code",
   "execution_count": 234,
   "metadata": {},
   "outputs": [],
   "source": [
    "import numpy as np\n",
    "import matplotlib.pyplot as plt\n",
    "\n",
    "from src.algorithms import ACA_SPSD, Algorithm1\n",
    "from src.matrices import get_A1, get_A2, get_A3\n",
    "from src.helpers import volume, ACA_error"
   ]
  },
  {
   "cell_type": "markdown",
   "metadata": {},
   "source": [
    "## Task 1"
   ]
  },
  {
   "cell_type": "markdown",
   "metadata": {},
   "source": [
    "Get the matrix $A_1$"
   ]
  },
  {
   "cell_type": "code",
   "execution_count": 226,
   "metadata": {},
   "outputs": [],
   "source": [
    "n = 7\n",
    "A1 = get_A1(n=n)"
   ]
  },
  {
   "cell_type": "markdown",
   "metadata": {},
   "source": [
    "Find index set using adaptive cross approximation"
   ]
  },
  {
   "cell_type": "code",
   "execution_count": 227,
   "metadata": {},
   "outputs": [],
   "source": [
    "k = 6\n",
    "I = ACA_SPSD(A1, k=k)"
   ]
  },
  {
   "cell_type": "markdown",
   "metadata": {},
   "source": [
    "Compare volumes of ACA submatrix $A_1(I, I)$ to counter example $A_1(J, J)$"
   ]
  },
  {
   "cell_type": "code",
   "execution_count": 228,
   "metadata": {},
   "outputs": [
    {
     "name": "stdout",
     "output_type": "stream",
     "text": [
      "Volume of A_1(I, I): vol(A_1(I, I)) = 1.311e-16\n",
      "Volume of A_1(J, J): vol(A_1(I, I)) = 4.689e-16\n"
     ]
    }
   ],
   "source": [
    "J = np.array([0, 1, 2, 3, 5, 6])\n",
    "\n",
    "vol_II = volume(A1[np.ix_(I, I)])\n",
    "vol_JJ = volume(A1[np.ix_(J, J)])\n",
    "\n",
    "print(\"Volume of A_1(I, I): vol(A_1(I, I)) = {:.3e}\".format(vol_II))\n",
    "print(\"Volume of A_1(J, J): vol(A_1(I, I)) = {:.3e}\".format(vol_JJ))"
   ]
  },
  {
   "cell_type": "markdown",
   "metadata": {},
   "source": [
    "## Task 2"
   ]
  },
  {
   "cell_type": "code",
   "execution_count": null,
   "metadata": {},
   "outputs": [],
   "source": [
    "# TODO: Implementation of Task 2"
   ]
  },
  {
   "cell_type": "markdown",
   "metadata": {},
   "source": [
    "## Task 3"
   ]
  },
  {
   "cell_type": "markdown",
   "metadata": {},
   "source": [
    "Get the matrix $A_2$"
   ]
  },
  {
   "cell_type": "code",
   "execution_count": 257,
   "metadata": {},
   "outputs": [],
   "source": [
    "n = 200\n",
    "A2 = get_A2(n=n)"
   ]
  },
  {
   "cell_type": "markdown",
   "metadata": {},
   "source": [
    "Plot progression of cross approximations"
   ]
  },
  {
   "cell_type": "code",
   "execution_count": 268,
   "metadata": {},
   "outputs": [
    {
     "data": {
      "image/png": "[encoded data removed]",
      "text/plain": [
       "<Figure size 432x288 with 1 Axes>"
      ]
     },
     "metadata": {
      "needs_background": "light"
     },
     "output_type": "display_data"
    }
   ],
   "source": [
    "K = 100\n",
    "k_list = np.arange(1, K+1, dtype=int)\n",
    "A2_errors = np.empty(len(k_list))\n",
    "\n",
    "for idx, k in enumerate(k_list):\n",
    "    I = ACA_SPSD(A2, k)\n",
    "    A2_errors[idx] = ACA_error(A2, I, ord=2)\n",
    "\n",
    "# TODO: Same for Algorithm 1\n",
    "\n",
    "plt.plot(k_list, A2_errors)\n",
    "plt.xlabel(\"$k$\")\n",
    "plt.ylabel(\"$||A_2 - A_2(:, I) A_2(I, I)^{-1} A_2(I, :)||_2$\")\n",
    "plt.show()"
   ]
  },
  {
   "cell_type": "markdown",
   "metadata": {},
   "source": [
    "Get the matrix $A_3$"
   ]
  },
  {
   "cell_type": "code",
   "execution_count": 266,
   "metadata": {},
   "outputs": [],
   "source": [
    "n = 200\n",
    "A3 = get_A3(n=n)"
   ]
  },
  {
   "cell_type": "code",
   "execution_count": 267,
   "metadata": {},
   "outputs": [
    {
     "data": {
      "image/png": "[encoded data removed]",
      "text/plain": [
       "<Figure size 432x288 with 1 Axes>"
      ]
     },
     "metadata": {
      "needs_background": "light"
     },
     "output_type": "display_data"
    }
   ],
   "source": [
    "K = 20  # TODO: Should be 100, but it seems to not work for K > 20...\n",
    "k_list = np.arange(1, K+1, dtype=int)\n",
    "A3_errors = np.empty(len(k_list))\n",
    "\n",
    "for idx, k in enumerate(k_list):\n",
    "    I = ACA_SPSD(A3, k)\n",
    "    A2_errors[idx] = ACA_error(A3, I, ord=2)\n",
    "\n",
    "# TODO: Same for Algorithm 1\n",
    "\n",
    "plt.plot(k_list, A2_errors)\n",
    "plt.xlabel(\"$k$\")\n",
    "plt.ylabel(\"$||A_3 - A_3(:, I) A_3(I, I)^{-1} A_3(I, :)||_2$\")\n",
    "plt.show()"
   ]
  }
 ],
 "metadata": {
  "kernelspec": {
   "display_name": "Python 3.9.12 ('base')",
   "language": "python",
   "name": "python3"
  },
  "language_info": {
   "codemirror_mode": {
    "name": "ipython",
    "version": 3
   },
   "file_extension": ".py",
   "mimetype": "text/x-python",
   "name": "python",
   "nbconvert_exporter": "python",
   "pygments_lexer": "ipython3",
   "version": "3.9.12"
  },
  "orig_nbformat": 4,
  "vscode": {
   "interpreter": {
    "hash": "550641dcc2a75f21b81887d3698c0825416855549d51b297fed11a34de4c4834"
   }
  }
 },
 "nbformat": 4,
 "nbformat_minor": 2
}
