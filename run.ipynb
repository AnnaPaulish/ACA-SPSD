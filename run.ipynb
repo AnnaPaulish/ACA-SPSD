{
 "cells": [
  {
   "cell_type": "markdown",
   "metadata": {},
   "source": [
    "# Project – Low-rank approximation techniques"
   ]
  },
  {
   "cell_type": "markdown",
   "metadata": {},
   "source": [
    "### Topic\n",
    "Volume maximization for cross approximation"
   ]
  },
  {
   "cell_type": "markdown",
   "metadata": {},
   "source": [
    "### Authors \n",
    "Anna Paulish & Fabio Matti"
   ]
  },
  {
   "cell_type": "markdown",
   "metadata": {},
   "source": [
    "### Imports"
   ]
  },
  {
   "cell_type": "code",
   "execution_count": 36,
   "metadata": {},
   "outputs": [
    {
     "name": "stdout",
     "output_type": "stream",
     "text": [
      "The autoreload extension is already loaded. To reload it, use:\n",
      "  %reload_ext autoreload\n"
     ]
    }
   ],
   "source": [
    "%load_ext autoreload\n",
    "%autoreload 2"
   ]
  },
  {
   "cell_type": "code",
   "execution_count": 37,
   "metadata": {},
   "outputs": [],
   "source": [
    "import numpy as np\n",
    "import matplotlib.pyplot as plt\n",
    "\n",
    "from src.algorithms import ACA_SPSD, Algorithm1\n",
    "from src.matrices import get_A1, get_A2, get_A3, get_A4\n",
    "from src.helpers import volume, ACA_error, max_volume_index_set, ACA_upper_bounds"
   ]
  },
  {
   "cell_type": "markdown",
   "metadata": {},
   "source": [
    "## Task 1"
   ]
  },
  {
   "cell_type": "markdown",
   "metadata": {},
   "source": [
    "Set the parameters $n$ and $k$"
   ]
  },
  {
   "cell_type": "code",
   "execution_count": 38,
   "metadata": {},
   "outputs": [],
   "source": [
    "n = 7\n",
    "k = 6"
   ]
  },
  {
   "cell_type": "markdown",
   "metadata": {},
   "source": [
    "Get the matrix $A_1$"
   ]
  },
  {
   "cell_type": "code",
   "execution_count": 39,
   "metadata": {},
   "outputs": [],
   "source": [
    "A1 = get_A1(n=n)"
   ]
  },
  {
   "cell_type": "markdown",
   "metadata": {},
   "source": [
    "Find index set using adaptive cross approximation and using direct search"
   ]
  },
  {
   "cell_type": "code",
   "execution_count": 40,
   "metadata": {},
   "outputs": [],
   "source": [
    "I = ACA_SPSD(A1, k=k)\n",
    "J = max_volume_index_set(A1, k)"
   ]
  },
  {
   "cell_type": "markdown",
   "metadata": {},
   "source": [
    "Compare volumes of ACA submatrix $A_1(I, I)$ to maximum volume submatrix $A_1(J, J)$"
   ]
  },
  {
   "cell_type": "code",
   "execution_count": 41,
   "metadata": {},
   "outputs": [
    {
     "name": "stdout",
     "output_type": "stream",
     "text": [
      "Volume of A_1(I, I) = 1.311e-16\n",
      "Volume of A_1(J, J) = 1.000e-13\n"
     ]
    }
   ],
   "source": [
    "vol_II = volume(A1[np.ix_(I, I)])\n",
    "vol_JJ = volume(A1[np.ix_(J, J)])\n",
    "\n",
    "print(\"Volume of A_1(I, I) = {:.3e}\".format(vol_II))\n",
    "print(\"Volume of A_1(J, J) = {:.3e}\".format(vol_JJ))"
   ]
  },
  {
   "cell_type": "markdown",
   "metadata": {},
   "source": [
    "## Task 2"
   ]
  },
  {
   "cell_type": "markdown",
   "metadata": {},
   "source": [
    "Find index set using `Algorithm1`"
   ]
  },
  {
   "cell_type": "code",
   "execution_count": 42,
   "metadata": {},
   "outputs": [
    {
     "name": "stdout",
     "output_type": "stream",
     "text": [
      "Volume of A_1(I1, I1) = 1.000e-13\n"
     ]
    }
   ],
   "source": [
    "I1 = Algorithm1(A1, k=k)\n",
    "vol_I1 = volume(A1[np.ix_(I1, I1)])\n",
    "\n",
    "print(\"Volume of A_1(I1, I1) = {:.3e}\".format(vol_I1))"
   ]
  },
  {
   "cell_type": "markdown",
   "metadata": {},
   "source": [
    "Compare accuracies of the two algorithms"
   ]
  },
  {
   "cell_type": "code",
   "execution_count": 43,
   "metadata": {},
   "outputs": [
    {
     "name": "stdout",
     "output_type": "stream",
     "text": [
      "Error of ACA from ACA_SPSD = 4.437e-07\n",
      "Error of ACA from Algorithm1 = 5.814e-10\n"
     ]
    }
   ],
   "source": [
    "error_II = ACA_error(A1, I, ord=np.inf)\n",
    "error_I1 = ACA_error(A1, I1, ord=np.inf)\n",
    "\n",
    "print(\"Error of ACA from ACA_SPSD = {:.3e}\".format(error_II))\n",
    "print(\"Error of ACA from Algorithm1 = {:.3e}\".format(error_I1))"
   ]
  },
  {
   "cell_type": "markdown",
   "metadata": {},
   "source": [
    "## Task 3"
   ]
  },
  {
   "cell_type": "markdown",
   "metadata": {},
   "source": [
    "Set the parameters $n$ and specify range of $k \\in \\{1, ..., K\\}$"
   ]
  },
  {
   "cell_type": "code",
   "execution_count": 44,
   "metadata": {},
   "outputs": [],
   "source": [
    "n = 200\n",
    "K = 100\n",
    "k_list = np.arange(1, K+1, dtype=int)"
   ]
  },
  {
   "cell_type": "markdown",
   "metadata": {},
   "source": [
    "Get the matrix $A_2$"
   ]
  },
  {
   "cell_type": "code",
   "execution_count": 45,
   "metadata": {},
   "outputs": [],
   "source": [
    "A2 = get_A2(n=n)"
   ]
  },
  {
   "cell_type": "markdown",
   "metadata": {},
   "source": [
    "Plot progression of cross approximations for $A_2$"
   ]
  },
  {
   "cell_type": "code",
   "execution_count": 46,
   "metadata": {},
   "outputs": [
    {
     "data": {
      "image/png": "[encoded data removed]",
      "text/plain": [
       "<Figure size 432x288 with 1 Axes>"
      ]
     },
     "metadata": {
      "needs_background": "light"
     },
     "output_type": "display_data"
    }
   ],
   "source": [
    "A2_errors = np.empty(len(k_list))\n",
    "\n",
    "for idx, k in enumerate(k_list):\n",
    "    I = ACA_SPSD(A2, k)\n",
    "    A2_errors[idx] = ACA_error(A2, I, ord='max')\n",
    "\n",
    "A2_errors_algorithm1 = np.empty(len(k_list))\n",
    "\n",
    "for idx, k in enumerate(k_list):\n",
    "    I1 = Algorithm1(A2, k)\n",
    "    A2_errors_algorithm1[idx] = ACA_error(A2, I1, ord='max')\n",
    "\n",
    "A2_upper_bounds, A2_singular_values = ACA_upper_bounds(A2, K)\n",
    "\n",
    "plt.plot(k_list, A2_errors, label = \"ACA_SPSD\", alpha=0.85, linestyle ='--')\n",
    "plt.plot(k_list, A2_errors_algorithm1, label = \"Algorithm 1\", alpha=0.65, linewidth = 4, zorder=-1)\n",
    "plt.plot(k_list, A2_singular_values, label = \"Singular values\")\n",
    "#plt.plot(k_list, A2_upper_bounds, label = \"ACA upper bound\")\n",
    "\n",
    "plt.legend()\n",
    "#plt.yscale('log')\n",
    "\n",
    "plt.xticks(np.arange(1,K+1,step=5))\n",
    "plt.xlabel(\"$k$\")\n",
    "plt.ylabel(\"$||A_2 - A_2(:, I) A_2(I, I)^{-1} A_2(I, :)||_{max}$\")\n",
    "plt.show()"
   ]
  },
  {
   "cell_type": "markdown",
   "metadata": {},
   "source": [
    "Get the matrix $A_3$"
   ]
  },
  {
   "cell_type": "code",
   "execution_count": 47,
   "metadata": {},
   "outputs": [],
   "source": [
    "A3 = get_A3(n=n)"
   ]
  },
  {
   "cell_type": "markdown",
   "metadata": {},
   "source": [
    "Plot progression of cross approximations for $A_3$"
   ]
  },
  {
   "cell_type": "code",
   "execution_count": 48,
   "metadata": {},
   "outputs": [],
   "source": [
    "K = 20  # Hilbert matrix is numerically not invertible for K >~ 20\n",
    "k_list = np.arange(1, K+1, dtype=int)"
   ]
  },
  {
   "cell_type": "code",
   "execution_count": 49,
   "metadata": {},
   "outputs": [
    {
     "data": {
      "image/png": "[encoded data removed]",
      "text/plain": [
       "<Figure size 432x288 with 1 Axes>"
      ]
     },
     "metadata": {
      "needs_background": "light"
     },
     "output_type": "display_data"
    }
   ],
   "source": [
    "A3_errors = np.empty(len(k_list))\n",
    "\n",
    "for idx, k in enumerate(k_list):\n",
    "    I = ACA_SPSD(A3, k)\n",
    "    A3_errors[idx] = ACA_error(A3, I, ord='max')\n",
    "\n",
    "# Same for Algorithm 1\n",
    "A3_errors_algorithm1  = np.empty(len(k_list))\n",
    "\n",
    "for idx, k in enumerate(k_list):\n",
    "    I1 = Algorithm1(A3, k)\n",
    "    A3_errors_algorithm1[idx] = ACA_error(A3, I1, ord='max')\n",
    "\n",
    "A3_upper_bounds, A3_singular_values = ACA_upper_bounds(A3, K)\n",
    "\n",
    "plt.plot(k_list, A3_errors, label = \"ACA_SPSD\", alpha=0.85, linestyle ='--')\n",
    "plt.plot(k_list, A3_errors_algorithm1, label = \"Algorithm 1\", alpha=0.65, linewidth = 4, zorder=-1)\n",
    "plt.plot(k_list,A3_upper_bounds, label = \"ACA upper bound\")\n",
    "plt.plot(k_list, A3_singular_values, label = \"Singular values\")\n",
    "\n",
    "plt.legend()\n",
    "plt.yscale('log')\n",
    "\n",
    "plt.xticks(np.arange(K+1,step=2))\n",
    "plt.xlabel(\"$k$\")\n",
    "plt.ylabel(\"$||A_3 - A_3(:, I) A_3(I, I)^{-1} A_3(I, :)||_{max}$\")\n",
    "plt.show()"
   ]
  },
  {
   "cell_type": "markdown",
   "metadata": {},
   "source": [
    "## Task 4"
   ]
  },
  {
   "cell_type": "markdown",
   "metadata": {},
   "source": [
    "Counter example for `Algorithm1` not returning maximum volume submatrix"
   ]
  },
  {
   "cell_type": "code",
   "execution_count": 57,
   "metadata": {},
   "outputs": [
    {
     "name": "stdout",
     "output_type": "stream",
     "text": [
      "Volume of A_4(I4, I4) = 9.900e-01\n",
      "Volume of A_4(J4, J4) = 1.000e+00\n"
     ]
    }
   ],
   "source": [
    "A4 = get_A4(epsilon=1e-1)\n",
    "I4 = Algorithm1(A4, k=2)\n",
    "J4 = np.array([2, 3])\n",
    "\n",
    "vol_I4 = volume(A4[np.ix_(I4, I4)])\n",
    "vol_J4 = volume(A4[np.ix_(J4, J4)])\n",
    "\n",
    "print(\"Volume of A_4(I4, I4) = {:.3e}\".format(vol_I4))\n",
    "print(\"Volume of A_4(J4, J4) = {:.3e}\".format(vol_J4))"
   ]
  },
  {
   "cell_type": "code",
   "execution_count": null,
   "metadata": {},
   "outputs": [],
   "source": []
  }
 ],
 "metadata": {
  "kernelspec": {
   "display_name": "Python 3.10.4 ('milad')",
   "language": "python",
   "name": "python3"
  },
  "language_info": {
   "codemirror_mode": {
    "name": "ipython",
    "version": 3
   },
   "file_extension": ".py",
   "mimetype": "text/x-python",
   "name": "python",
   "nbconvert_exporter": "python",
   "pygments_lexer": "ipython3",
   "version": "3.10.4"
  },
  "orig_nbformat": 4,
  "vscode": {
   "interpreter": {
    "hash": "11183dd196d673c258f7dbdc913384f8db91c369889c8232666225165c6989cc"
   }
  }
 },
 "nbformat": 4,
 "nbformat_minor": 2
}
