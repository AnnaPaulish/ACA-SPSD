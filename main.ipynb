{
 "cells": [
  {
   "cell_type": "markdown",
   "metadata": {},
   "source": [
    "# Project – Low-rank approximation techniques"
   ]
  },
  {
   "cell_type": "markdown",
   "metadata": {},
   "source": [
    "### Topic\n",
    "Volume maximization for cross approximation"
   ]
  },
  {
   "cell_type": "markdown",
   "metadata": {},
   "source": [
    "### Authors \n",
    "Anna Paulish & Fabio Matti"
   ]
  },
  {
   "cell_type": "markdown",
   "metadata": {},
   "source": [
    "### Imports"
   ]
  },
  {
   "cell_type": "code",
   "execution_count": 16,
   "metadata": {},
   "outputs": [],
   "source": [
    "import numpy as np\n",
    "import matplotlib.pyplot as plt\n",
    "\n",
    "from src.algorithms import ACA_SPSD, Algorithm1\n",
    "from src.matrices import get_A1, get_A2, get_A3, get_A4\n",
    "from src.helpers import volume, ACA_error, max_volume_index_set, ACA_upper_bounds"
   ]
  },
  {
   "cell_type": "markdown",
   "metadata": {},
   "source": [
    "## Task 1"
   ]
  },
  {
   "cell_type": "markdown",
   "metadata": {},
   "source": [
    "Set the parameters $n$ and $k$"
   ]
  },
  {
   "cell_type": "code",
   "execution_count": 17,
   "metadata": {},
   "outputs": [],
   "source": [
    "n = 7\n",
    "k = 6"
   ]
  },
  {
   "cell_type": "markdown",
   "metadata": {},
   "source": [
    "Get the matrix $A_1$"
   ]
  },
  {
   "cell_type": "code",
   "execution_count": 18,
   "metadata": {},
   "outputs": [],
   "source": [
    "A1 = get_A1(n=n)"
   ]
  },
  {
   "cell_type": "markdown",
   "metadata": {},
   "source": [
    "Find index set using `ACA_SPSD` and using direct search"
   ]
  },
  {
   "cell_type": "code",
   "execution_count": 19,
   "metadata": {},
   "outputs": [],
   "source": [
    "I_A1_ACA = ACA_SPSD(A1, k=k)\n",
    "I_A1_max = max_volume_index_set(A1, k=k)"
   ]
  },
  {
   "cell_type": "markdown",
   "metadata": {},
   "source": [
    "Compare volume for indices obtained with `ACA_SPSD` with maximum volume"
   ]
  },
  {
   "cell_type": "code",
   "execution_count": 20,
   "metadata": {},
   "outputs": [
    {
     "name": "stdout",
     "output_type": "stream",
     "text": [
      "Volume with ACA_SPSD:   vol(A_1[I_ACA, I_ACA]) = 1.311e-16\n",
      "Maximum volume:         vol(A_1[I_max, I_max]) = 1.000e-13\n"
     ]
    }
   ],
   "source": [
    "vol_A1_ACA = volume(A1[np.ix_(I_A1_ACA, I_A1_ACA)])\n",
    "vol_A1_max = volume(A1[np.ix_(I_A1_max, I_A1_max)])\n",
    "\n",
    "print(\"Volume with ACA_SPSD:   vol(A_1[I_ACA, I_ACA]) = {:.3e}\".format(vol_A1_ACA))\n",
    "print(\"Maximum volume:         vol(A_1[I_max, I_max]) = {:.3e}\".format(vol_A1_max))"
   ]
  },
  {
   "cell_type": "markdown",
   "metadata": {},
   "source": [
    "## Task 2"
   ]
  },
  {
   "cell_type": "markdown",
   "metadata": {},
   "source": [
    "Find index set using `Algorithm1`"
   ]
  },
  {
   "cell_type": "code",
   "execution_count": 21,
   "metadata": {},
   "outputs": [
    {
     "name": "stdout",
     "output_type": "stream",
     "text": [
      "Volume with Algorithm1: vol(A_1[I_Alg, I_Alg]) = 1.000e-13\n"
     ]
    }
   ],
   "source": [
    "I_A1_Alg = Algorithm1(A1, k=k)\n",
    "vol_A1_Alg = volume(A1[np.ix_(I_A1_Alg, I_A1_Alg)])\n",
    "\n",
    "print(\"Volume with Algorithm1: vol(A_1[I_Alg, I_Alg]) = {:.3e}\".format(vol_A1_Alg))"
   ]
  },
  {
   "cell_type": "markdown",
   "metadata": {},
   "source": [
    "Compare accuracies of the two algorithms"
   ]
  },
  {
   "cell_type": "code",
   "execution_count": 22,
   "metadata": {},
   "outputs": [
    {
     "name": "stdout",
     "output_type": "stream",
     "text": [
      "Error in max-norm with ACA_SPSD:         error = 4.437e-07\n",
      "Error in max-norm with Algorithm1:       error = 5.814e-10\n"
     ]
    }
   ],
   "source": [
    "error_A1_ACA = ACA_error(A1, I_A1_ACA, ord='max')\n",
    "error_A1_Alg = ACA_error(A1, I_A1_Alg, ord='max')\n",
    "\n",
    "print(\"Error in max-norm with ACA_SPSD:         error = {:.3e}\".format(error_A1_ACA))\n",
    "print(\"Error in max-norm with Algorithm1:       error = {:.3e}\".format(error_A1_Alg))"
   ]
  },
  {
   "cell_type": "markdown",
   "metadata": {},
   "source": [
    "## Task 3"
   ]
  },
  {
   "cell_type": "markdown",
   "metadata": {},
   "source": [
    "Set the parameters $n$ and specify range of $k \\in \\{1, ..., K\\}$"
   ]
  },
  {
   "cell_type": "code",
   "execution_count": 23,
   "metadata": {},
   "outputs": [],
   "source": [
    "N = 200\n",
    "K = 100\n",
    "k_list = np.arange(1, K+1, dtype=int)"
   ]
  },
  {
   "cell_type": "markdown",
   "metadata": {},
   "source": [
    "Get the matrix $A_2$"
   ]
  },
  {
   "cell_type": "code",
   "execution_count": 24,
   "metadata": {},
   "outputs": [],
   "source": [
    "A2 = get_A2(n=N)"
   ]
  },
  {
   "cell_type": "markdown",
   "metadata": {},
   "source": [
    "Plot error progression of cross approximations for $A_2$"
   ]
  },
  {
   "cell_type": "code",
   "execution_count": 25,
   "metadata": {},
   "outputs": [
    {
     "data": {
      "image/png": "[encoded data removed]",
      "text/plain": [
       "<Figure size 504x288 with 1 Axes>"
      ]
     },
     "metadata": {
      "needs_background": "light"
     },
     "output_type": "display_data"
    }
   ],
   "source": [
    "errors_A2_ACA = np.empty(len(k_list))\n",
    "errors_A2_Alg = np.empty(len(k_list))\n",
    "\n",
    "for idx, k in enumerate(k_list):\n",
    "    I_A2_ACA = ACA_SPSD(A2, k)\n",
    "    errors_A2_ACA[idx] = ACA_error(A2, I_A2_ACA, ord='max')\n",
    "    I_A2_Alg = Algorithm1(A2, k)\n",
    "    errors_A2_Alg[idx] = ACA_error(A2, I_A2_Alg, ord='max')\n",
    "\n",
    "upper_bounds_A2, singular_values_A2 = ACA_upper_bounds(A2, k_max=K)\n",
    "\n",
    "plt.figure(figsize=(7, 4))\n",
    "\n",
    "plt.plot(k_list, upper_bounds_A2, label=\"$(k+1)\\sigma_{k+1}(A_2)$\", c=\"#ABBFD4\")\n",
    "plt.plot(k_list, singular_values_A2, label = \"$\\sigma_k(A_2)$\", c=\"#ABBFD4\", linestyle = \"--\")\n",
    "plt.plot(k_list, errors_A2_ACA, label = \"$||A_2 - A_2[:,I]A_2[I,I]^{-1}A_2[I,:]||_{max}$ for ACA_SPSD\", c=\"#2F455C\")\n",
    "plt.plot(k_list, errors_A2_Alg, label = \"$||A_2 - A_2[:,I]A_2[I,I]^{-1}A_2[I,:]||_{max}$ for Algorithm1\", c=\"#D55209\", zorder=-1)\n",
    "\n",
    "plt.legend()\n",
    "plt.yscale('log')\n",
    "plt.xlim(np.min(k_list), np.max(k_list))\n",
    "plt.xlabel(\"$k$\")\n",
    "plt.show()"
   ]
  },
  {
   "cell_type": "markdown",
   "metadata": {},
   "source": [
    "Get the matrix $A_3$"
   ]
  },
  {
   "cell_type": "code",
   "execution_count": 26,
   "metadata": {},
   "outputs": [],
   "source": [
    "A3 = get_A3(n=N)"
   ]
  },
  {
   "cell_type": "markdown",
   "metadata": {},
   "source": [
    "Plot error progression of cross approximations for $A_3$"
   ]
  },
  {
   "cell_type": "code",
   "execution_count": 27,
   "metadata": {},
   "outputs": [
    {
     "name": "stderr",
     "output_type": "stream",
     "text": [
      "c:\\Users\\fabio\\Documents\\Projects\\ACA-SPSD\\src\\algorithms.py:48: RuntimeWarning: invalid value encountered in double_scalars\n",
      "  L[pi[m], m] = pow(d[pi[m]], 0.5)\n"
     ]
    },
    {
     "data": {
      "image/png": "[encoded data removed]",
      "text/plain": [
       "<Figure size 504x288 with 1 Axes>"
      ]
     },
     "metadata": {
      "needs_background": "light"
     },
     "output_type": "display_data"
    }
   ],
   "source": [
    "errors_A3_ACA = np.empty(len(k_list))\n",
    "errors_A3_Alg = np.empty(len(k_list))\n",
    "\n",
    "for idx, k in enumerate(k_list):\n",
    "    I_A3_ACA = ACA_SPSD(A3, k)\n",
    "    errors_A3_ACA[idx] = ACA_error(A3, I_A3_ACA, ord='max')\n",
    "    I_A3_Alg = Algorithm1(A3, k)\n",
    "    errors_A3_Alg[idx] = ACA_error(A3, I_A3_Alg, ord='max')\n",
    "\n",
    "upper_bounds_A3, singular_values_A3 = ACA_upper_bounds(A3, k_max=K)\n",
    "\n",
    "plt.figure(figsize=(7, 4))\n",
    "\n",
    "plt.plot(k_list, upper_bounds_A3, label=\"$(k+1)\\sigma_{k+1}(A_3)$\", c=\"#ABBFD4\")\n",
    "plt.plot(k_list, singular_values_A3, label = \"$\\sigma_k(A_3)$\", c=\"#ABBFD4\", linestyle = \"--\")\n",
    "plt.plot(k_list, errors_A3_ACA, label = \"$||A_3 - A_3[:,I]A_3[I,I]^{-1}A_3[I,:]||_{max}$ for ACA_SPSD\", c=\"#2F455C\")\n",
    "plt.plot(k_list, errors_A3_Alg, label = \"$||A_3 - A_3[:,I]A_3[I,I]^{-1}A_3[I,:]||_{max}$ for Algorithm1\", c=\"#D55209\", zorder=-1)\n",
    "\n",
    "plt.legend()\n",
    "plt.yscale('log')\n",
    "plt.xlim(np.min(k_list), np.max(k_list))\n",
    "plt.xlabel(\"$k$\")\n",
    "plt.show()"
   ]
  },
  {
   "cell_type": "markdown",
   "metadata": {},
   "source": [
    "## Task 4"
   ]
  },
  {
   "cell_type": "markdown",
   "metadata": {},
   "source": [
    "Get the counter example $A_4$ for `Algorithm1` returning maximum volume submatrix"
   ]
  },
  {
   "cell_type": "code",
   "execution_count": 28,
   "metadata": {},
   "outputs": [],
   "source": [
    "A4 = get_A4(epsilon=1e-1)"
   ]
  },
  {
   "cell_type": "markdown",
   "metadata": {},
   "source": [
    "Demonstrate that `Algorithm1` does not return maximum volume submatrix"
   ]
  },
  {
   "cell_type": "code",
   "execution_count": 29,
   "metadata": {},
   "outputs": [
    {
     "name": "stdout",
     "output_type": "stream",
     "text": [
      "Volume with Algorithm1: vol(A_1[I_Alg, I_Alg]) = 9.900e-01\n",
      "Maximum volume:         vol(A_1[I_max, I_max]) = 1.000e+00\n"
     ]
    }
   ],
   "source": [
    "I_A4_Alg = Algorithm1(A4, k=2)\n",
    "I_A4_max = max_volume_index_set(A4, k=2)\n",
    "\n",
    "vol_A4_Alg = volume(A4[np.ix_(I_A4_Alg, I_A4_Alg)])\n",
    "vol_A4_max = volume(A4[np.ix_(I_A4_max, I_A4_max)])\n",
    "\n",
    "print(\"Volume with Algorithm1: vol(A_1[I_Alg, I_Alg]) = {:.3e}\".format(vol_A4_Alg))\n",
    "print(\"Maximum volume:         vol(A_1[I_max, I_max]) = {:.3e}\".format(vol_A4_max))"
   ]
  },
  {
   "cell_type": "code",
   "execution_count": null,
   "metadata": {},
   "outputs": [],
   "source": []
  }
 ],
 "metadata": {
  "kernelspec": {
   "display_name": "Python 3.10.4 ('milad')",
   "language": "python",
   "name": "python3"
  },
  "language_info": {
   "codemirror_mode": {
    "name": "ipython",
    "version": 3
   },
   "file_extension": ".py",
   "mimetype": "text/x-python",
   "name": "python",
   "nbconvert_exporter": "python",
   "pygments_lexer": "ipython3",
   "version": "3.10.4"
  },
  "orig_nbformat": 4,
  "vscode": {
   "interpreter": {
    "hash": "11183dd196d673c258f7dbdc913384f8db91c369889c8232666225165c6989cc"
   }
  }
 },
 "nbformat": 4,
 "nbformat_minor": 2
}
